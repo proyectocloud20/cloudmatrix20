{
 "cells": [
  {
   "cell_type": "markdown",
   "metadata": {},
   "source": [
    "# Título"
   ]
  },
  {
   "cell_type": "code",
   "execution_count": 70,
   "metadata": {},
   "outputs": [],
   "source": [
    "import pdal\n",
    "import json\n",
    "import ogr\n",
    "import os\n"
   ]
  },
  {
   "cell_type": "code",
   "execution_count": 24,
   "metadata": {},
   "outputs": [],
   "source": [
    "def get_coordinates_from_name(file):\n",
    "    tlcorner = file.split(\"_\")[3]\n",
    "    xmin, ymax = tlcorner.split(\"-\")\n",
    "    xmin  = float(xmin)\n",
    "    ymax = float(ymax)\n",
    "    xy_dictionary = {\"xmin\":xmin, \"ymax\":ymax}\n",
    "    return(xy_dictionary)\n",
    "    \n",
    "def get_las_bbox(lasfile):\n",
    "    creating_json = {\n",
    "        \"pipeline\": [\n",
    "            {\n",
    "                \"type\": \"readers.las\",\n",
    "                \"filename\": f\"{lasfile}\"\n",
    "            },\n",
    "            {\n",
    "                \"type\": \"filters.info\"\n",
    "            }\n",
    "        ]\n",
    "    }\n",
    "    \n",
    "    consulta = json.dumps(creating_json, indent = 4)\n",
    "    pipeline = pdal.Pipeline(consulta)\n",
    "    pipeline.loglevel = 8\n",
    "    count = pipeline.execute()\n",
    "    #arrays = pipeline.arrays\n",
    "    metadata = pipeline.metadata\n",
    "    meta = json.loads(metadata)\n",
    "    for key, value in meta.items():\n",
    "        for k, v in value.items():\n",
    "            if k == \"filters.info\":\n",
    "                if \"bbox\" in v:\n",
    "                    for kk, vv in v.items():\n",
    "                        if kk == \"bbox\":\n",
    "                            return(vv)\n",
    "\n",
    "def get_upperleft_top(folder):\n",
    "    listafiles = os.listdir(folder)\n",
    "    for file in listafiles:\n",
    "        if \"xmin\" not in vars(): \n",
    "            xmin, ymax = get_coordinates_from_name(file).values()\n",
    "            x_min = xmin\n",
    "            y_max = ymax\n",
    "\n",
    "\n",
    "        else:\n",
    "            xmin, ymax = get_coordinates_from_name(file).values()\n",
    "            if xmin < x_min: \n",
    "                x_min = xmin\n",
    "            if ymax > y_max: \n",
    "                y_max = ymax\n",
    "    \n",
    "    diccionario = {\"xmin\": x_min, \"ymax\": y_max}\n",
    "    return(diccionario)\n",
    "\n",
    "def get_upperleft_bottom(folder):\n",
    "    listafiles = os.listdir(folder)\n",
    "    for file in listafiles:\n",
    "        if \"xmin\" not in vars(): \n",
    "            xmin, ymax = get_coordinates_from_name(file).values()\n",
    "            x_min = xmin\n",
    "            y_max = ymax\n",
    "\n",
    "\n",
    "        else:\n",
    "            xmin, ymax = get_coordinates_from_name(file).values()\n",
    "            if xmin > x_min: \n",
    "                x_min = xmin\n",
    "            if ymax < y_max: \n",
    "                y_max = ymax\n",
    "    \n",
    "    diccionario = {\"xmin\": x_min, \"ymax\": y_max}\n",
    "    return(diccionario)\n",
    "\n",
    "def multiplyer(lista, multi):\n",
    "    newlist = list()\n",
    "    for i in lista:\n",
    "        newlist.append(i*multi)\n",
    "    return(newlist)"
   ]
  },
  {
   "cell_type": "code",
   "execution_count": 39,
   "metadata": {},
   "outputs": [
    {
     "name": "stdout",
     "output_type": "stream",
     "text": [
      "563999.99 4217999.99 1848.65 562000 4216000 1388.13\n",
      "{'maxx': 563999.99, 'maxy': 4217999.99, 'maxz': 1848.65, 'minx': 562000, 'miny': 4216000, 'minz': 1388.13}\n"
     ]
    }
   ],
   "source": [
    "a = \"data/PNOA_2016_MUR-VAL-CLM_562-4218_ORT-CLA-RGB.laz\"\n",
    "b = get_las_bbox(a)\n",
    "c, d, e, f, g, h = b.values()\n",
    "print(c, d, e, f, g, h)\n",
    "print(b)"
   ]
  },
  {
   "cell_type": "markdown",
   "metadata": {},
   "source": [
    "## In the major of situations, corners bbox of tiles and the gretater corners coordinates will not match. Beacuse of that, tiling will be computed directly from upper left corners of each las bbox."
   ]
  },
  {
   "cell_type": "code",
   "execution_count": 89,
   "metadata": {},
   "outputs": [],
   "source": [
    "lasfolder = \"data\"\n",
    "upper_top = get_upperleft_top(lasfolder)\n",
    "upper_bottom = get_upperleft_bottom(lasfolder)\n",
    "\n",
    "spacing = 10000\n",
    "\n",
    "top_xmin, top_ymax = upper_top.values()\n",
    "bottom_xmin, bottom_ymax = upper_bottom.values()\n",
    "tmp = [top_xmin, top_ymax, bottom_xmin, bottom_ymax]\n",
    "top_xmin, top_ymax, bottom_xmin, bottom_ymax = multiplyer(tmp, 1000)\n",
    "del tmp\n",
    "\n"
   ]
  },
  {
   "cell_type": "code",
   "execution_count": 44,
   "metadata": {},
   "outputs": [],
   "source": [
    "def tilenator2(lasfolder, outputfolder, spacing = 10000):\n",
    "    \n",
    "    # Getting corners\n",
    "    upper_top = get_upperleft_top(lasfolder)\n",
    "    upper_bottom = get_upperleft_bottom(lasfolder)\n",
    "    top_xmin, top_ymax = upper_top.values()\n",
    "    bottom_xmin, bottom_ymax = upper_bottom.values()\n",
    "    tmp = [top_xmin, top_ymax, bottom_xmin, bottom_ymax]\n",
    "    top_xmin, top_ymax, bottom_xmin, bottom_ymax = multiplyer(tmp, 1000)\n",
    "    del tmp\n",
    "    \n",
    "    # Iteraring through all the bbox\n",
    "    it = 0\n",
    "    for i_xmin in range(562000, (598000+spacing*2), spacing):\n",
    "        for i_ymax in range(4240000, (4158000 - spacing*2), -spacing):\n",
    "            \n",
    "\n"
   ]
  },
  {
   "cell_type": "code",
   "execution_count": 43,
   "metadata": {},
   "outputs": [
    {
     "name": "stdout",
     "output_type": "stream",
     "text": [
      "562000.0 4240000.0 598000.0 4158000.0\n"
     ]
    }
   ],
   "source": [
    "tilenator2(\"data\")"
   ]
  },
  {
   "cell_type": "code",
   "execution_count": 85,
   "metadata": {},
   "outputs": [
    {
     "name": "stdout",
     "output_type": "stream",
     "text": [
      "x:562000 - y:4240000\n",
      "x:562000 - y:4230000\n",
      "x:562000 - y:4220000\n",
      "x:562000 - y:4210000\n",
      "x:562000 - y:4200000\n",
      "x:562000 - y:4190000\n",
      "x:562000 - y:4180000\n",
      "x:562000 - y:4170000\n",
      "x:562000 - y:4160000\n",
      "x:562000 - y:4150000\n",
      "x:562000 - y:4140000\n",
      "x:572000 - y:4240000\n",
      "x:572000 - y:4230000\n",
      "x:572000 - y:4220000\n",
      "x:572000 - y:4210000\n",
      "x:572000 - y:4200000\n",
      "x:572000 - y:4190000\n",
      "x:572000 - y:4180000\n",
      "x:572000 - y:4170000\n",
      "x:572000 - y:4160000\n",
      "x:572000 - y:4150000\n",
      "x:572000 - y:4140000\n",
      "x:582000 - y:4240000\n",
      "x:582000 - y:4230000\n",
      "x:582000 - y:4220000\n",
      "x:582000 - y:4210000\n",
      "x:582000 - y:4200000\n",
      "x:582000 - y:4190000\n",
      "x:582000 - y:4180000\n",
      "x:582000 - y:4170000\n",
      "x:582000 - y:4160000\n",
      "x:582000 - y:4150000\n",
      "x:582000 - y:4140000\n",
      "x:592000 - y:4240000\n",
      "x:592000 - y:4230000\n",
      "x:592000 - y:4220000\n",
      "x:592000 - y:4210000\n",
      "x:592000 - y:4200000\n",
      "x:592000 - y:4190000\n",
      "x:592000 - y:4180000\n",
      "x:592000 - y:4170000\n",
      "x:592000 - y:4160000\n",
      "x:592000 - y:4150000\n",
      "x:592000 - y:4140000\n",
      "x:602000 - y:4240000\n",
      "x:602000 - y:4230000\n",
      "x:602000 - y:4220000\n",
      "x:602000 - y:4210000\n",
      "x:602000 - y:4200000\n",
      "x:602000 - y:4190000\n",
      "x:602000 - y:4180000\n",
      "x:602000 - y:4170000\n",
      "x:602000 - y:4160000\n",
      "x:602000 - y:4150000\n",
      "x:602000 - y:4140000\n",
      "x:612000 - y:4240000\n",
      "x:612000 - y:4230000\n",
      "x:612000 - y:4220000\n",
      "x:612000 - y:4210000\n",
      "x:612000 - y:4200000\n",
      "x:612000 - y:4190000\n",
      "x:612000 - y:4180000\n",
      "x:612000 - y:4170000\n",
      "x:612000 - y:4160000\n",
      "x:612000 - y:4150000\n",
      "x:612000 - y:4140000\n"
     ]
    }
   ],
   "source": [
    "\n",
    "for i_xmin in range(562000, (598000+spacing*2), spacing):\n",
    "    for i_ymax in range(4240000, (4158000 - spacing*2), -spacing):\n",
    "        \n",
    "        print(f\"x:{i_xmin} - y:{i_ymin}\")\n"
   ]
  },
  {
   "cell_type": "code",
   "execution_count": 59,
   "metadata": {},
   "outputs": [
    {
     "data": {
      "text/plain": [
       "-36000"
      ]
     },
     "execution_count": 59,
     "metadata": {},
     "output_type": "execute_result"
    }
   ],
   "source": [
    "def checker(xmin1, ymax1, xmin2, ymax2):\n",
    "    "
   ]
  },
  {
   "cell_type": "code",
   "execution_count": 91,
   "metadata": {},
   "outputs": [
    {
     "name": "stdout",
     "output_type": "stream",
     "text": [
      "{'maxx': 587999.99, 'maxy': 4219999.99, 'maxz': 1669.87, 'minx': 586000, 'miny': 4218000, 'minz': 893.86}\n",
      "{'maxx': 581999.99, 'maxy': 4209999.99, 'maxz': 1616.03, 'minx': 580000, 'miny': 4208000, 'minz': 1076.07}\n",
      "{'maxx': 563999.99, 'maxy': 4217999.99, 'maxz': 1848.65, 'minx': 562000, 'miny': 4216000, 'minz': 1388.13}\n",
      "{'maxx': 589999.99, 'maxy': 4167999.99, 'maxz': 1218.85, 'minx': 588000, 'miny': 4166000, 'minz': 762.78}\n",
      "{'maxx': 583999.99, 'maxy': 4221999.99, 'maxz': 1453.88, 'minx': 582000, 'miny': 4220000, 'minz': 1007.17}\n",
      "{'maxx': 587999.99, 'maxy': 4213999.99, 'maxz': 1351.13, 'minx': 586000, 'miny': 4212000, 'minz': 873.08}\n",
      "{'maxx': 565999.99, 'maxy': 4209999.99, 'maxz': 1737, 'minx': 564000, 'miny': 4208000, 'minz': 1208.84}\n",
      "{'maxx': 577999.99, 'maxy': 4203999.99, 'maxz': 1808.93, 'minx': 576000, 'miny': 4202000, 'minz': 975.63}\n",
      "{'maxx': 571999.99, 'maxy': 4203999.99, 'maxz': 1731.29, 'minx': 570000, 'miny': 4202000, 'minz': 1066.05}\n",
      "{'maxx': 577999.99, 'maxy': 4205999.99, 'maxz': 1743.06, 'minx': 576000, 'miny': 4204000, 'minz': 979.79}\n",
      "{'maxx': 571999.99, 'maxy': 4215999.99, 'maxz': 1440.98, 'minx': 570000, 'miny': 4214000, 'minz': 1216.25}\n",
      "{'maxx': 585999.99, 'maxy': 4193999.99, 'maxz': 1620.93, 'minx': 584000, 'miny': 4192000, 'minz': 819.12}\n",
      "{'maxx': 589999.99, 'maxy': 4195999.99, 'maxz': 1272.09, 'minx': 588000, 'miny': 4194000, 'minz': 816.17}\n",
      "{'maxx': 587999.99, 'maxy': 4235999.99, 'maxz': 1645.56, 'minx': 586000, 'miny': 4234000, 'minz': 915.19}\n",
      "{'maxx': 571999.99, 'maxy': 4201999.99, 'maxz': 1796.63, 'minx': 570000, 'miny': 4200000, 'minz': 1101.65}\n",
      "{'maxx': 587999.99, 'maxy': 4217999.99, 'maxz': 1156.77, 'minx': 586000, 'miny': 4216000, 'minz': 867.53}\n",
      "{'maxx': 571999.99, 'maxy': 4207999.99, 'maxz': 1821.34, 'minx': 570000, 'miny': 4206000, 'minz': 1102.89}\n",
      "{'maxx': 569999.99, 'maxy': 4197999.99, 'maxz': 1669.57, 'minx': 568000, 'miny': 4196000, 'minz': 1183.41}\n",
      "{'maxx': 577999.99, 'maxy': 4201999.99, 'maxz': 1743.39, 'minx': 576000, 'miny': 4200000, 'minz': 1014.05}\n",
      "{'maxx': 585999.99, 'maxy': 4201999.99, 'maxz': 1235.47, 'minx': 584000, 'miny': 4200000, 'minz': 812.67}\n",
      "{'maxx': 575999.99, 'maxy': 4197999.99, 'maxz': 1650.45, 'minx': 574000, 'miny': 4196000, 'minz': 1036.29}\n",
      "{'maxx': 587999.99, 'maxy': 4169999.99, 'maxz': 801.8, 'minx': 586000, 'miny': 4168000, 'minz': 656.67}\n",
      "{'maxx': 569999.99, 'maxy': 4203999.99, 'maxz': 1597.69, 'minx': 568000, 'miny': 4202000, 'minz': 1095.74}\n",
      "{'maxx': 563999.99, 'maxy': 4215999.99, 'maxz': 1855.86, 'minx': 562000, 'miny': 4214000, 'minz': 1387.72}\n",
      "{'maxx': 587999.99, 'maxy': 4239999.99, 'maxz': 1489.12, 'minx': 586000, 'miny': 4238000, 'minz': 735.48}\n",
      "{'maxx': 589999.99, 'maxy': 4191999.99, 'maxz': 1606.68, 'minx': 588000, 'miny': 4190000, 'minz': 752.79}\n",
      "{'maxx': 579999.99, 'maxy': 4203999.99, 'maxz': 1711.91, 'minx': 578000, 'miny': 4202000, 'minz': 946.04}\n",
      "{'maxx': 575999.99, 'maxy': 4231999.99, 'maxz': 1430.92, 'minx': 574000, 'miny': 4230000, 'minz': 1177.14}\n",
      "{'maxx': 571999.99, 'maxy': 4205999.99, 'maxz': 1662.04, 'minx': 570000, 'miny': 4204000, 'minz': 1070.36}\n",
      "{'maxx': 579999.99, 'maxy': 4197999.99, 'maxz': 1410.93, 'minx': 578000, 'miny': 4196000, 'minz': 1001.95}\n",
      "{'maxx': 589999.99, 'maxy': 4211999.99, 'maxz': 1790.1, 'minx': 588000, 'miny': 4210000, 'minz': 843.69}\n",
      "{'maxx': 589999.99, 'maxy': 4177999.99, 'maxz': 1493.4, 'minx': 588000, 'miny': 4176000, 'minz': 951.76}\n",
      "{'maxx': 571999.99, 'maxy': 4209999.99, 'maxz': 1766.71, 'minx': 570000, 'miny': 4208000, 'minz': 1119.68}\n"
     ]
    }
   ],
   "source": [
    "for las in os.listdir(lasfolder):\n",
    "    a = get_las_bbox(f\"{lasfolder}/{las}\")\n",
    "    print(a)"
   ]
  },
  {
   "cell_type": "code",
   "execution_count": null,
   "metadata": {},
   "outputs": [],
   "source": []
  },
  {
   "cell_type": "code",
   "execution_count": null,
   "metadata": {},
   "outputs": [],
   "source": []
  }
 ],
 "metadata": {
  "kernelspec": {
   "display_name": "Python 3",
   "language": "python",
   "name": "python3"
  },
  "language_info": {
   "codemirror_mode": {
    "name": "ipython",
    "version": 3
   },
   "file_extension": ".py",
   "mimetype": "text/x-python",
   "name": "python",
   "nbconvert_exporter": "python",
   "pygments_lexer": "ipython3",
   "version": "3.7.2"
  }
 },
 "nbformat": 4,
 "nbformat_minor": 2
}
